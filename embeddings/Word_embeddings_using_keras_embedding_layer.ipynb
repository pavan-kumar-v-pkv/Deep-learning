{
  "nbformat": 4,
  "nbformat_minor": 0,
  "metadata": {
    "colab": {
      "provenance": []
    },
    "kernelspec": {
      "name": "python3",
      "display_name": "Python 3"
    },
    "language_info": {
      "name": "python"
    }
  },
  "cells": [
    {
      "cell_type": "code",
      "execution_count": 23,
      "metadata": {
        "id": "iIb2PmzTQcfk"
      },
      "outputs": [],
      "source": [
        "import numpy as np\n",
        "from tensorflow.keras.preprocessing.text import one_hot\n",
        "from tensorflow.keras.preprocessing.sequence import pad_sequences\n",
        "from tensorflow.keras.models import Sequential\n",
        "from tensorflow.keras.layers import Dense\n",
        "from tensorflow.keras.layers import Flatten\n",
        "from tensorflow.keras.layers import Embedding"
      ]
    },
    {
      "cell_type": "code",
      "source": [
        "reviews = ['nice food',\n",
        "           'amazing restaurant',\n",
        "           'too good',\n",
        "           'just loved it!',\n",
        "           'will go again',\n",
        "           'horrible food',\n",
        "           'never go there',\n",
        "           'poor service',\n",
        "           'poor quality',\n",
        "           'needs improvement']\n",
        "\n",
        "sentiment = np.array([1, 1, 1, 1, 1, 0, 0, 0, 0, 0])"
      ],
      "metadata": {
        "id": "u-ToePpfRKyT"
      },
      "execution_count": 24,
      "outputs": []
    },
    {
      "cell_type": "code",
      "source": [
        "# Converting the vocabulary to one-hot encoded values\n",
        "one_hot(\"amazing restaurant\", 50)"
      ],
      "metadata": {
        "colab": {
          "base_uri": "https://localhost:8080/"
        },
        "id": "VikSwbCLR3gR",
        "outputId": "48673ad2-be63-441b-abaa-881f5f0de0b6"
      },
      "execution_count": 41,
      "outputs": [
        {
          "output_type": "execute_result",
          "data": {
            "text/plain": [
              "[28, 17]"
            ]
          },
          "metadata": {},
          "execution_count": 41
        }
      ]
    },
    {
      "cell_type": "code",
      "source": [
        "vocab_size = 50\n",
        "encoded_reviews = [one_hot(d, vocab_size) for d in reviews]\n",
        "encoded_reviews"
      ],
      "metadata": {
        "colab": {
          "base_uri": "https://localhost:8080/"
        },
        "id": "Qi7aP95tSJT0",
        "outputId": "66b6c34f-cf55-42b5-b160-763e65b760e0"
      },
      "execution_count": 43,
      "outputs": [
        {
          "output_type": "execute_result",
          "data": {
            "text/plain": [
              "[[18, 2],\n",
              " [28, 17],\n",
              " [44, 44],\n",
              " [15, 13, 2],\n",
              " [4, 17, 27],\n",
              " [24, 2],\n",
              " [20, 17, 26],\n",
              " [9, 35],\n",
              " [9, 33],\n",
              " [19, 36]]"
            ]
          },
          "metadata": {},
          "execution_count": 43
        }
      ]
    },
    {
      "cell_type": "code",
      "source": [
        "for (x, y) in zip(reviews, encoded_reviews):\n",
        "    print(f\"{x}: {y}\")"
      ],
      "metadata": {
        "colab": {
          "base_uri": "https://localhost:8080/"
        },
        "id": "pDZ_cbTCSpY6",
        "outputId": "27237d5a-3f9a-407c-97d1-d53b05d5e948"
      },
      "execution_count": 44,
      "outputs": [
        {
          "output_type": "stream",
          "name": "stdout",
          "text": [
            "nice food: [18, 2]\n",
            "amazing restaurant: [28, 17]\n",
            "too good: [44, 44]\n",
            "just loved it!: [15, 13, 2]\n",
            "will go again: [4, 17, 27]\n",
            "horrible food: [24, 2]\n",
            "never go there: [20, 17, 26]\n",
            "poor service: [9, 35]\n",
            "poor quality: [9, 33]\n",
            "needs improvement: [19, 36]\n"
          ]
        }
      ]
    },
    {
      "cell_type": "markdown",
      "source": [
        "**Padding is needed because some sentences are longer than the others. Considering the longest sentence as 3 worded.**"
      ],
      "metadata": {
        "id": "s9kRu70YTGjk"
      }
    },
    {
      "cell_type": "code",
      "source": [
        "max_length = 3\n",
        "padded_reviews = pad_sequences(encoded_reviews, maxlen=max_length, padding='post')\n",
        "padded_reviews"
      ],
      "metadata": {
        "colab": {
          "base_uri": "https://localhost:8080/"
        },
        "id": "IfNGRLtoUbeq",
        "outputId": "96947183-f1f3-42be-e571-59bc4b0de926"
      },
      "execution_count": 45,
      "outputs": [
        {
          "output_type": "execute_result",
          "data": {
            "text/plain": [
              "array([[18,  2,  0],\n",
              "       [28, 17,  0],\n",
              "       [44, 44,  0],\n",
              "       [15, 13,  2],\n",
              "       [ 4, 17, 27],\n",
              "       [24,  2,  0],\n",
              "       [20, 17, 26],\n",
              "       [ 9, 35,  0],\n",
              "       [ 9, 33,  0],\n",
              "       [19, 36,  0]], dtype=int32)"
            ]
          },
          "metadata": {},
          "execution_count": 45
        }
      ]
    },
    {
      "cell_type": "code",
      "source": [
        "embedded_vector_size = 5\n",
        "\n",
        "model = Sequential()\n",
        "model.add(Embedding(vocab_size, embedded_vector_size, input_length=max_length, name=\"embedding\"))\n",
        "model.add(Flatten())\n",
        "model.add(Dense(1, activation='sigmoid'))"
      ],
      "metadata": {
        "colab": {
          "base_uri": "https://localhost:8080/"
        },
        "id": "0R3zWURoUtE3",
        "outputId": "07ca2889-0f2c-4969-a70c-cfc4b8b7424e"
      },
      "execution_count": 46,
      "outputs": [
        {
          "output_type": "stream",
          "name": "stderr",
          "text": [
            "/usr/local/lib/python3.11/dist-packages/keras/src/layers/core/embedding.py:90: UserWarning: Argument `input_length` is deprecated. Just remove it.\n",
            "  warnings.warn(\n"
          ]
        }
      ]
    },
    {
      "cell_type": "code",
      "source": [
        "X = padded_reviews\n",
        "y = sentiment"
      ],
      "metadata": {
        "id": "2UBTeZIaVv3e"
      },
      "execution_count": 47,
      "outputs": []
    },
    {
      "cell_type": "code",
      "source": [
        "model.compile(optimizer='adam', loss='binary_crossentropy', metrics=['accuracy'])"
      ],
      "metadata": {
        "id": "-fBzFFVEWef_"
      },
      "execution_count": 48,
      "outputs": []
    },
    {
      "cell_type": "code",
      "metadata": {
        "colab": {
          "base_uri": "https://localhost:8080/"
        },
        "id": "96d03cfa",
        "outputId": "86882f4e-1107-4f02-9fd4-70686a895146"
      },
      "source": [
        "model.fit(X, y, epochs=50, verbose=0)"
      ],
      "execution_count": 49,
      "outputs": [
        {
          "output_type": "execute_result",
          "data": {
            "text/plain": [
              "<keras.src.callbacks.history.History at 0x7c3a7e817990>"
            ]
          },
          "metadata": {},
          "execution_count": 49
        }
      ]
    },
    {
      "cell_type": "code",
      "metadata": {
        "colab": {
          "base_uri": "https://localhost:8080/",
          "height": 248
        },
        "id": "22b8e1f0",
        "outputId": "803b1b73-fdd5-42c2-a3ec-e4e952a33aaa"
      },
      "source": [
        "model.summary()"
      ],
      "execution_count": 50,
      "outputs": [
        {
          "output_type": "display_data",
          "data": {
            "text/plain": [
              "\u001b[1mModel: \"sequential_3\"\u001b[0m\n"
            ],
            "text/html": [
              "<pre style=\"white-space:pre;overflow-x:auto;line-height:normal;font-family:Menlo,'DejaVu Sans Mono',consolas,'Courier New',monospace\"><span style=\"font-weight: bold\">Model: \"sequential_3\"</span>\n",
              "</pre>\n"
            ]
          },
          "metadata": {}
        },
        {
          "output_type": "display_data",
          "data": {
            "text/plain": [
              "┏━━━━━━━━━━━━━━━━━━━━━━━━━━━━━━━━━┳━━━━━━━━━━━━━━━━━━━━━━━━┳━━━━━━━━━━━━━━━┓\n",
              "┃\u001b[1m \u001b[0m\u001b[1mLayer (type)                   \u001b[0m\u001b[1m \u001b[0m┃\u001b[1m \u001b[0m\u001b[1mOutput Shape          \u001b[0m\u001b[1m \u001b[0m┃\u001b[1m \u001b[0m\u001b[1m      Param #\u001b[0m\u001b[1m \u001b[0m┃\n",
              "┡━━━━━━━━━━━━━━━━━━━━━━━━━━━━━━━━━╇━━━━━━━━━━━━━━━━━━━━━━━━╇━━━━━━━━━━━━━━━┩\n",
              "│ embedding (\u001b[38;5;33mEmbedding\u001b[0m)           │ (\u001b[38;5;45mNone\u001b[0m, \u001b[38;5;34m3\u001b[0m, \u001b[38;5;34m5\u001b[0m)           │           \u001b[38;5;34m250\u001b[0m │\n",
              "├─────────────────────────────────┼────────────────────────┼───────────────┤\n",
              "│ flatten_3 (\u001b[38;5;33mFlatten\u001b[0m)             │ (\u001b[38;5;45mNone\u001b[0m, \u001b[38;5;34m15\u001b[0m)             │             \u001b[38;5;34m0\u001b[0m │\n",
              "├─────────────────────────────────┼────────────────────────┼───────────────┤\n",
              "│ dense_3 (\u001b[38;5;33mDense\u001b[0m)                 │ (\u001b[38;5;45mNone\u001b[0m, \u001b[38;5;34m1\u001b[0m)              │            \u001b[38;5;34m16\u001b[0m │\n",
              "└─────────────────────────────────┴────────────────────────┴───────────────┘\n"
            ],
            "text/html": [
              "<pre style=\"white-space:pre;overflow-x:auto;line-height:normal;font-family:Menlo,'DejaVu Sans Mono',consolas,'Courier New',monospace\">┏━━━━━━━━━━━━━━━━━━━━━━━━━━━━━━━━━┳━━━━━━━━━━━━━━━━━━━━━━━━┳━━━━━━━━━━━━━━━┓\n",
              "┃<span style=\"font-weight: bold\"> Layer (type)                    </span>┃<span style=\"font-weight: bold\"> Output Shape           </span>┃<span style=\"font-weight: bold\">       Param # </span>┃\n",
              "┡━━━━━━━━━━━━━━━━━━━━━━━━━━━━━━━━━╇━━━━━━━━━━━━━━━━━━━━━━━━╇━━━━━━━━━━━━━━━┩\n",
              "│ embedding (<span style=\"color: #0087ff; text-decoration-color: #0087ff\">Embedding</span>)           │ (<span style=\"color: #00d7ff; text-decoration-color: #00d7ff\">None</span>, <span style=\"color: #00af00; text-decoration-color: #00af00\">3</span>, <span style=\"color: #00af00; text-decoration-color: #00af00\">5</span>)           │           <span style=\"color: #00af00; text-decoration-color: #00af00\">250</span> │\n",
              "├─────────────────────────────────┼────────────────────────┼───────────────┤\n",
              "│ flatten_3 (<span style=\"color: #0087ff; text-decoration-color: #0087ff\">Flatten</span>)             │ (<span style=\"color: #00d7ff; text-decoration-color: #00d7ff\">None</span>, <span style=\"color: #00af00; text-decoration-color: #00af00\">15</span>)             │             <span style=\"color: #00af00; text-decoration-color: #00af00\">0</span> │\n",
              "├─────────────────────────────────┼────────────────────────┼───────────────┤\n",
              "│ dense_3 (<span style=\"color: #0087ff; text-decoration-color: #0087ff\">Dense</span>)                 │ (<span style=\"color: #00d7ff; text-decoration-color: #00d7ff\">None</span>, <span style=\"color: #00af00; text-decoration-color: #00af00\">1</span>)              │            <span style=\"color: #00af00; text-decoration-color: #00af00\">16</span> │\n",
              "└─────────────────────────────────┴────────────────────────┴───────────────┘\n",
              "</pre>\n"
            ]
          },
          "metadata": {}
        },
        {
          "output_type": "display_data",
          "data": {
            "text/plain": [
              "\u001b[1m Total params: \u001b[0m\u001b[38;5;34m800\u001b[0m (3.13 KB)\n"
            ],
            "text/html": [
              "<pre style=\"white-space:pre;overflow-x:auto;line-height:normal;font-family:Menlo,'DejaVu Sans Mono',consolas,'Courier New',monospace\"><span style=\"font-weight: bold\"> Total params: </span><span style=\"color: #00af00; text-decoration-color: #00af00\">800</span> (3.13 KB)\n",
              "</pre>\n"
            ]
          },
          "metadata": {}
        },
        {
          "output_type": "display_data",
          "data": {
            "text/plain": [
              "\u001b[1m Trainable params: \u001b[0m\u001b[38;5;34m266\u001b[0m (1.04 KB)\n"
            ],
            "text/html": [
              "<pre style=\"white-space:pre;overflow-x:auto;line-height:normal;font-family:Menlo,'DejaVu Sans Mono',consolas,'Courier New',monospace\"><span style=\"font-weight: bold\"> Trainable params: </span><span style=\"color: #00af00; text-decoration-color: #00af00\">266</span> (1.04 KB)\n",
              "</pre>\n"
            ]
          },
          "metadata": {}
        },
        {
          "output_type": "display_data",
          "data": {
            "text/plain": [
              "\u001b[1m Non-trainable params: \u001b[0m\u001b[38;5;34m0\u001b[0m (0.00 B)\n"
            ],
            "text/html": [
              "<pre style=\"white-space:pre;overflow-x:auto;line-height:normal;font-family:Menlo,'DejaVu Sans Mono',consolas,'Courier New',monospace\"><span style=\"font-weight: bold\"> Non-trainable params: </span><span style=\"color: #00af00; text-decoration-color: #00af00\">0</span> (0.00 B)\n",
              "</pre>\n"
            ]
          },
          "metadata": {}
        },
        {
          "output_type": "display_data",
          "data": {
            "text/plain": [
              "\u001b[1m Optimizer params: \u001b[0m\u001b[38;5;34m534\u001b[0m (2.09 KB)\n"
            ],
            "text/html": [
              "<pre style=\"white-space:pre;overflow-x:auto;line-height:normal;font-family:Menlo,'DejaVu Sans Mono',consolas,'Courier New',monospace\"><span style=\"font-weight: bold\"> Optimizer params: </span><span style=\"color: #00af00; text-decoration-color: #00af00\">534</span> (2.09 KB)\n",
              "</pre>\n"
            ]
          },
          "metadata": {}
        }
      ]
    },
    {
      "cell_type": "code",
      "metadata": {
        "colab": {
          "base_uri": "https://localhost:8080/"
        },
        "collapsed": true,
        "id": "1094b7bb",
        "outputId": "00d99082-dbdd-4a0b-ee83-7eb38fc281e5"
      },
      "source": [
        "model.predict(X)"
      ],
      "execution_count": 51,
      "outputs": [
        {
          "output_type": "stream",
          "name": "stdout",
          "text": [
            "\u001b[1m1/1\u001b[0m \u001b[32m━━━━━━━━━━━━━━━━━━━━\u001b[0m\u001b[37m\u001b[0m \u001b[1m0s\u001b[0m 85ms/step\n"
          ]
        },
        {
          "output_type": "execute_result",
          "data": {
            "text/plain": [
              "array([[0.5127551 ],\n",
              "       [0.51225644],\n",
              "       [0.5164165 ],\n",
              "       [0.5717383 ],\n",
              "       [0.5706238 ],\n",
              "       [0.48266923],\n",
              "       [0.4922055 ],\n",
              "       [0.4336029 ],\n",
              "       [0.43163663],\n",
              "       [0.44208992]], dtype=float32)"
            ]
          },
          "metadata": {},
          "execution_count": 51
        }
      ]
    },
    {
      "cell_type": "code",
      "metadata": {
        "colab": {
          "base_uri": "https://localhost:8080/"
        },
        "id": "ddb0ae1a",
        "outputId": "c455df5a-5285-4aee-9be5-710f0399f0ca"
      },
      "source": [
        "loss, accuracy = model.evaluate(X, y)\n",
        "print(f\"Accuracy: {accuracy*100}\")"
      ],
      "execution_count": 52,
      "outputs": [
        {
          "output_type": "stream",
          "name": "stdout",
          "text": [
            "\u001b[1m1/1\u001b[0m \u001b[32m━━━━━━━━━━━━━━━━━━━━\u001b[0m\u001b[37m\u001b[0m \u001b[1m0s\u001b[0m 241ms/step - accuracy: 1.0000 - loss: 0.6172\n",
            "Accuracy: 100.0\n"
          ]
        }
      ]
    },
    {
      "cell_type": "code",
      "source": [
        "weights = model.get_layer('embedding').get_weights()[0]\n",
        "weights"
      ],
      "metadata": {
        "colab": {
          "base_uri": "https://localhost:8080/"
        },
        "collapsed": true,
        "id": "06wOuvRrW73C",
        "outputId": "db127a75-e694-42e2-a708-3790952c9cba"
      },
      "execution_count": 53,
      "outputs": [
        {
          "output_type": "execute_result",
          "data": {
            "text/plain": [
              "array([[-6.02774173e-02,  3.73034514e-02,  6.23819456e-02,\n",
              "         3.98649536e-02, -4.95097935e-02],\n",
              "       [-2.43814234e-02, -1.48032419e-02,  3.38371433e-02,\n",
              "         2.37550400e-02,  3.24929878e-03],\n",
              "       [-9.88618378e-03, -2.88310330e-02, -5.92683218e-02,\n",
              "        -2.66816863e-03,  8.29743519e-02],\n",
              "       [ 4.60431464e-02, -3.29525955e-02, -2.21547373e-02,\n",
              "         2.87402906e-02, -7.59349018e-03],\n",
              "       [-5.31673878e-02, -4.50693034e-02, -4.45739515e-02,\n",
              "         5.57482615e-02,  5.62389195e-02],\n",
              "       [ 1.02826245e-02,  3.11025120e-02, -4.52963710e-02,\n",
              "        -2.61529218e-02, -7.53035396e-03],\n",
              "       [ 1.90835930e-02, -3.53990309e-02, -1.94629915e-02,\n",
              "        -6.68205321e-04, -1.32164136e-02],\n",
              "       [ 1.46739967e-02,  3.35278399e-02, -3.34803089e-02,\n",
              "        -3.92388105e-02, -3.65290791e-03],\n",
              "       [-4.64635268e-02, -1.87263265e-02, -2.34540459e-02,\n",
              "         1.31437071e-02, -2.35473160e-02],\n",
              "       [ 5.87764606e-02,  1.00572377e-01,  1.12556532e-01,\n",
              "        -1.19570844e-01, -6.69689626e-02],\n",
              "       [ 4.61570062e-02,  5.30704856e-05,  3.65738757e-02,\n",
              "         2.46712826e-02, -3.09516676e-02],\n",
              "       [ 4.36117910e-02, -6.88139349e-03, -8.47873837e-03,\n",
              "        -1.76767819e-02, -4.18278798e-02],\n",
              "       [ 6.48867339e-04, -3.62109914e-02,  3.80968340e-02,\n",
              "         3.81900705e-02, -4.40310612e-02],\n",
              "       [ 3.07281502e-02, -4.36700843e-02, -6.67449608e-02,\n",
              "        -9.49757919e-02, -1.67988928e-03],\n",
              "       [-2.45398413e-02, -8.40060785e-03, -1.60044543e-02,\n",
              "         2.19759457e-02, -5.64311817e-03],\n",
              "       [-1.74724311e-02, -8.24309438e-02, -6.64318055e-02,\n",
              "         3.24167497e-02,  3.86861153e-02],\n",
              "       [ 2.08457820e-02,  4.19195555e-02,  6.72359392e-03,\n",
              "         4.59085442e-02,  4.71053161e-02],\n",
              "       [ 7.22141117e-02, -1.98347978e-02,  1.74550209e-02,\n",
              "        -5.30644916e-02,  8.69798288e-03],\n",
              "       [-2.68069468e-02, -7.85786211e-02, -6.03447258e-02,\n",
              "         5.79462126e-02,  6.50839210e-02],\n",
              "       [ 4.59338799e-02,  4.35921224e-03,  3.07847410e-02,\n",
              "        -8.47529694e-02, -2.92833783e-02],\n",
              "       [ 5.52424043e-02,  5.29717691e-02,  4.54740897e-02,\n",
              "        -1.79787669e-02, -2.05857363e-02],\n",
              "       [ 4.10065539e-02, -1.79538950e-02, -4.65102792e-02,\n",
              "        -2.00084597e-03, -1.48809664e-02],\n",
              "       [-4.77627888e-02, -4.86216694e-03, -9.37590748e-03,\n",
              "        -3.51977944e-02, -3.01583167e-02],\n",
              "       [-1.26808770e-02,  2.23474018e-02, -4.14255485e-02,\n",
              "         2.21955292e-02,  3.05310227e-02],\n",
              "       [ 4.98632640e-02,  8.72405805e-03,  1.81062445e-02,\n",
              "        -8.56012106e-02, -2.94652674e-03],\n",
              "       [ 2.14401148e-02, -3.99327502e-02,  3.01697515e-02,\n",
              "        -4.98934835e-03,  4.41185385e-03],\n",
              "       [-3.70159112e-02,  5.68111204e-02,  7.53435344e-02,\n",
              "         2.55622296e-03, -2.09072120e-02],\n",
              "       [ 3.15795839e-02, -6.96159974e-02, -8.60217586e-02,\n",
              "        -8.56811479e-02,  7.20379800e-02],\n",
              "       [-1.80199686e-02, -9.41008851e-02, -1.08255539e-03,\n",
              "         6.93532079e-03,  4.95166443e-02],\n",
              "       [ 1.81297213e-03,  1.88875943e-04, -3.58404294e-02,\n",
              "         6.73843548e-03, -8.52752849e-03],\n",
              "       [-1.13598332e-02,  6.68722391e-03,  3.36419009e-02,\n",
              "         8.79370049e-03,  3.74693610e-02],\n",
              "       [ 1.78576447e-02,  2.13899873e-02,  4.05778997e-02,\n",
              "        -2.47192029e-02,  3.30239423e-02],\n",
              "       [-3.81906740e-02,  4.82230447e-02,  9.49542597e-03,\n",
              "        -9.17863101e-04, -4.52461839e-02],\n",
              "       [-4.91031930e-02,  2.63434537e-02,  5.17599061e-02,\n",
              "         4.48483452e-02,  9.24557522e-02],\n",
              "       [-2.41817590e-02, -3.39108855e-02, -1.82595253e-02,\n",
              "         3.38307284e-02,  1.03518739e-02],\n",
              "       [-2.98665501e-02,  4.71644886e-02,  5.37057519e-02,\n",
              "         7.54563808e-02,  2.01250203e-02],\n",
              "       [-1.00547321e-01,  8.02972466e-02,  8.16234425e-02,\n",
              "         2.46475730e-02,  7.86135271e-02],\n",
              "       [ 3.44260447e-02,  2.64359601e-02,  7.75772333e-03,\n",
              "         3.63466889e-03, -5.28323650e-03],\n",
              "       [ 1.90782882e-02, -4.38524373e-02, -4.58914638e-02,\n",
              "        -3.51919755e-02,  4.44483496e-02],\n",
              "       [-3.59827764e-02,  2.53186710e-02,  3.27619165e-03,\n",
              "        -3.81068811e-02,  4.99998406e-03],\n",
              "       [-3.02176233e-02,  1.63106360e-02, -3.42101231e-02,\n",
              "        -5.40291145e-03, -1.12009756e-02],\n",
              "       [-1.95627809e-02,  1.71587802e-02, -1.69970877e-02,\n",
              "        -2.87929773e-02,  3.23403142e-02],\n",
              "       [ 4.42032553e-02, -4.85163331e-02, -4.01022434e-02,\n",
              "         1.15005970e-02, -4.26598452e-02],\n",
              "       [-1.51943415e-04,  2.23661698e-02,  3.57360505e-02,\n",
              "        -1.26909390e-02,  3.39444317e-02],\n",
              "       [ 5.42425439e-02, -5.65998554e-02, -3.57438810e-02,\n",
              "        -5.92867732e-02, -6.11640848e-02],\n",
              "       [ 2.57821567e-02, -2.65839100e-02, -3.45203057e-02,\n",
              "        -1.44221410e-02, -3.54341380e-02],\n",
              "       [-2.99688224e-02, -1.44499540e-02, -7.97892734e-03,\n",
              "         2.40076445e-02,  2.28698179e-03],\n",
              "       [-4.26700115e-02,  4.92830016e-02,  3.95625867e-02,\n",
              "         4.03089039e-02,  1.12821460e-02],\n",
              "       [-4.88727354e-02, -4.77457047e-03, -3.14904936e-02,\n",
              "        -1.94772482e-02, -4.10450101e-02],\n",
              "       [-4.07196060e-02,  1.59953944e-02, -1.92620642e-02,\n",
              "        -8.51403549e-03,  4.49335091e-02]], dtype=float32)"
            ]
          },
          "metadata": {},
          "execution_count": 53
        }
      ]
    },
    {
      "cell_type": "code",
      "source": [
        "len(weights)"
      ],
      "metadata": {
        "colab": {
          "base_uri": "https://localhost:8080/"
        },
        "id": "B0vHVe_4XGbh",
        "outputId": "8d75c59c-3491-4c8b-cdc4-3b11c3ece7ab"
      },
      "execution_count": 54,
      "outputs": [
        {
          "output_type": "execute_result",
          "data": {
            "text/plain": [
              "50"
            ]
          },
          "metadata": {},
          "execution_count": 54
        }
      ]
    },
    {
      "cell_type": "code",
      "source": [],
      "metadata": {
        "id": "jaQJSr6gXVWt"
      },
      "execution_count": 54,
      "outputs": []
    }
  ]
}